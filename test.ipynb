{
 "cells": [
  {
   "cell_type": "code",
   "execution_count": 1,
   "metadata": {},
   "outputs": [
    {
     "data": {
      "image/png": "[encoded data removed]",
      "text/plain": [
       "<Figure size 432x288 with 1 Axes>"
      ]
     },
     "metadata": {
      "needs_background": "light"
     },
     "output_type": "display_data"
    }
   ],
   "source": [
    "import matplotlib.pyplot as plt\n",
    "\n",
    "x=[1,2,3]\n",
    "y=[9,8,7]\n",
    "\n",
    "plt.plot(x,y)\n",
    "for a,b in zip(x, y): \n",
    "    plt.text(a, b, str(b))\n",
    "plt.show()"
   ]
  },
  {
   "cell_type": "code",
   "execution_count": 10,
   "metadata": {},
   "outputs": [
    {
     "name": "stdout",
     "output_type": "stream",
     "text": [
      "/usr/sbin/start-systemd-namespace: line 2: $'\\r': command not found\n",
      "/usr/sbin/start-systemd-namespace: line 23: syntax error: unexpected end of file\n",
      "Collecting sympy\n",
      "  Downloading sympy-1.10.1-py3-none-any.whl (6.4 MB)\n",
      "\u001b[K     |████████████████████████████████| 6.4 MB 6.4 MB/s eta 0:00:01\n",
      "\u001b[?25hCollecting mpmath>=0.19\n",
      "  Downloading mpmath-1.2.1-py3-none-any.whl (532 kB)\n",
      "\u001b[K     |████████████████████████████████| 532 kB 29.8 MB/s eta 0:00:01\n",
      "\u001b[?25hInstalling collected packages: mpmath, sympy\n",
      "Successfully installed mpmath-1.2.1 sympy-1.10.1\n"
     ]
    }
   ],
   "source": [
    "!pip install sympy"
   ]
  },
  {
   "cell_type": "code",
   "execution_count": 13,
   "metadata": {},
   "outputs": [
    {
     "data": {
      "image/png": "[encoded data removed]",
      "text/plain": [
       "<Figure size 456.928x120.6 with 1 Axes>"
      ]
     },
     "metadata": {},
     "output_type": "display_data"
    }
   ],
   "source": [
    "import matplotlib.pyplot as plt\n",
    "import sympy\n",
    "\n",
    "x = sympy.symbols('x')\n",
    "y = 1 + sympy.sin(sympy.sqrt(x**2 + 2))\n",
    "lat = sympy.latex(y)\n",
    "\n",
    "fig = plt.figure()\n",
    "renderer = fig.canvas.get_renderer()\n",
    "t = plt.text(0.001, 0.001, f\"${lat}$\", fontsize=50)\n",
    "wext = t.get_window_extent(renderer=renderer)\n",
    "\n",
    "fig.set_size_inches(wext.width / 65, wext.height / 40, forward=True)\n",
    "fig.patch.set_facecolor('white')\n",
    "plt.axis('off')\n",
    "plt.tight_layout()\n",
    "plt.savefig('out.png', bbox_inches='tight', pad_inches=0)\n",
    "plt.show()"
   ]
  },
  {
   "cell_type": "code",
   "execution_count": 22,
   "metadata": {},
   "outputs": [],
   "source": [
    "from PIL import Image, ImageDraw\n",
    "blank_image = Image.new('RGB', (400, 300), 'white')\n",
    "img_draw = ImageDraw.Draw(blank_image)\n",
    "# img_draw.rectangle((70, 50, 270, 200), outline='red', fill='blue')\n",
    "img_draw.text((0, 0), 'Hello World', fill='green')\n",
    "blank_image.save('drawn_image.jpg')"
   ]
  },
  {
   "cell_type": "code",
   "execution_count": 16,
   "metadata": {},
   "outputs": [
    {
     "name": "stderr",
     "output_type": "stream",
     "text": [
      "display-im6.q16: unable to open X server `172.22.64.1:0.0' @ error/display.c/DisplayImageCommand/432.\n",
      "display-im6.q16: unable to open X server `172.22.64.1:0.0' @ error/display.c/DisplayImageCommand/432.\n",
      "Warning: program returned non-zero exit code #256\n",
      "WARNING: You don't seem to have any mimeinfo.cache files.\n",
      "Try running the update-desktop-database command. If you\n",
      "don't have this command you should install the\n",
      "desktop-file-utils package. This package is available from\n",
      "http://freedesktop.org/wiki/Software/desktop-file-utils/\n",
      "Can't call method \"get_value\" on an undefined value at /usr/bin/mimeopen line 159.\n",
      "/usr/sbin/start-systemd-namespace: line 2: $'\\r': command not found\n",
      "your 131072x1 screen size is bogus. expect trouble\n",
      "/usr/sbin/start-systemd-namespace: line 23: syntax error: unexpected end of file\n",
      "[8627:8627:0202/183619.435670:ERROR:ozone_platform_x11.cc(238)] Missing X server or $DISPLAY\n",
      "[8627:8627:0202/183619.436196:ERROR:env.cc(255)] The platform failed to initialize.  Exiting.\n",
      "/usr/bin/xdg-open: 869: firefox: not found\n",
      "/usr/bin/xdg-open: 869: iceweasel: not found\n",
      "/usr/bin/xdg-open: 869: seamonkey: not found\n",
      "/usr/bin/xdg-open: 869: mozilla: not found\n",
      "/usr/bin/xdg-open: 869: epiphany: not found\n",
      "/usr/bin/xdg-open: 869: konqueror: not found\n",
      "/usr/bin/xdg-open: 869: chromium: not found\n",
      "/usr/bin/xdg-open: 869: chromium-browser: not found\n",
      "/usr/sbin/start-systemd-namespace: line 2: $'\\r': command not found\n",
      "your 131072x1 screen size is bogus. expect trouble\n",
      "/usr/sbin/start-systemd-namespace: line 23: syntax error: unexpected end of file\n",
      "[8681:8681:0202/183619.653057:ERROR:ozone_platform_x11.cc(238)] Missing X server or $DISPLAY\n",
      "[8681:8681:0202/183619.653098:ERROR:env.cc(255)] The platform failed to initialize.  Exiting.\n",
      "/usr/sbin/start-systemd-namespace: line 2: $'\\r': command not found\n",
      "your 131072x1 screen size is bogus. expect trouble\n",
      "/usr/sbin/start-systemd-namespace: line 23: syntax error: unexpected end of file\n",
      "Start : This command cannot be run due to the error: The system cannot find the file specified.\n",
      "At line:1 char:1\n",
      "+ Start \"/tmp/tmpx7rmqo16.PNG\"\n",
      "+ ~~~~~~~~~~~~~~~~~~~~~~~~~~~~\n",
      "    + CategoryInfo          : InvalidOperation: (:) [Start-Process], InvalidOperationException\n",
      "    + FullyQualifiedErrorId : InvalidOperationException,Microsoft.PowerShell.Commands.StartProcessCommand\n",
      " \n"
     ]
    }
   ],
   "source": [
    "blank_image.show()"
   ]
  },
  {
   "cell_type": "code",
   "execution_count": 28,
   "metadata": {},
   "outputs": [],
   "source": [
    "from PIL import Image, ImageDraw, ImageFont\n",
    "\n",
    "W, H = (300,200)\n",
    "msg = \"hello\"\n",
    "\n",
    "im = Image.new(\"RGBA\",(W,H),\"#F0F8FF\")\n",
    "draw = ImageDraw.Draw(im)\n",
    "w, h = draw.textsize(msg)\n",
    "my_font = ImageFont.truetype('Roboto-Regular.ttf', 22)\n",
    "draw.text(((W-w)/2,(H-h)/2), msg, font=my_font, fill=\"black\")\n",
    "\n",
    "im.save(\"hello.png\", \"PNG\")"
   ]
  },
  {
   "cell_type": "code",
   "execution_count": 32,
   "metadata": {},
   "outputs": [],
   "source": [
    "from PIL import Image, ImageDraw, ImageFont\n",
    "\n",
    "\n",
    "def create_image(size, bgColor, message, font, fontColor):\n",
    "    W, H = size\n",
    "    image = Image.new('RGB', size, bgColor)\n",
    "    draw = ImageDraw.Draw(image)\n",
    "    _, _, w, h = draw.textbbox((0, 0), message, font=font)\n",
    "    draw.text(((W-w)/2, (H-h)/2), message, font=font, fill=fontColor)\n",
    "    return image\n",
    "\n",
    "myFont = ImageFont.truetype('Roboto-Regular.ttf', 22)\n",
    "myMessage = str(0)\n",
    "myImage = create_image((300, 200), '#F0F8FF', myMessage, myFont, 'black')\n",
    "myImage.save('hello_world.png', \"PNG\")"
   ]
  },
  {
   "cell_type": "code",
   "execution_count": 33,
   "metadata": {},
   "outputs": [],
   "source": [
    "import cv2"
   ]
  },
  {
   "cell_type": "code",
   "execution_count": 34,
   "metadata": {},
   "outputs": [],
   "source": [
    "# pil_image = PIL.Image.open('Image.jpg').convert('RGB') \n",
    "import numpy as np\n",
    "open_cv_image = np.array(myImage) \n",
    "# Convert RGB to BGR \n",
    "open_cv_image = open_cv_image[:, :, ::-1].copy() "
   ]
  },
  {
   "cell_type": "code",
   "execution_count": 35,
   "metadata": {},
   "outputs": [
    {
     "data": {
      "text/plain": [
       "array([[[255, 248, 240],\n",
       "        [255, 248, 240],\n",
       "        [255, 248, 240],\n",
       "        ...,\n",
       "        [255, 248, 240],\n",
       "        [255, 248, 240],\n",
       "        [255, 248, 240]],\n",
       "\n",
       "       [[255, 248, 240],\n",
       "        [255, 248, 240],\n",
       "        [255, 248, 240],\n",
       "        ...,\n",
       "        [255, 248, 240],\n",
       "        [255, 248, 240],\n",
       "        [255, 248, 240]],\n",
       "\n",
       "       [[255, 248, 240],\n",
       "        [255, 248, 240],\n",
       "        [255, 248, 240],\n",
       "        ...,\n",
       "        [255, 248, 240],\n",
       "        [255, 248, 240],\n",
       "        [255, 248, 240]],\n",
       "\n",
       "       ...,\n",
       "\n",
       "       [[255, 248, 240],\n",
       "        [255, 248, 240],\n",
       "        [255, 248, 240],\n",
       "        ...,\n",
       "        [255, 248, 240],\n",
       "        [255, 248, 240],\n",
       "        [255, 248, 240]],\n",
       "\n",
       "       [[255, 248, 240],\n",
       "        [255, 248, 240],\n",
       "        [255, 248, 240],\n",
       "        ...,\n",
       "        [255, 248, 240],\n",
       "        [255, 248, 240],\n",
       "        [255, 248, 240]],\n",
       "\n",
       "       [[255, 248, 240],\n",
       "        [255, 248, 240],\n",
       "        [255, 248, 240],\n",
       "        ...,\n",
       "        [255, 248, 240],\n",
       "        [255, 248, 240],\n",
       "        [255, 248, 240]]], dtype=uint8)"
      ]
     },
     "execution_count": 35,
     "metadata": {},
     "output_type": "execute_result"
    }
   ],
   "source": [
    "open_cv_image"
   ]
  },
  {
   "cell_type": "code",
   "execution_count": 39,
   "metadata": {},
   "outputs": [],
   "source": [
    "from PIL import Image, ImageDraw, ImageFont\n",
    "import cv2\n",
    "import numpy as np\n",
    "def create_image_helper(size, bgColor, message, font, fontColor):\n",
    "    W, H = size\n",
    "    image = Image.new('RGB', size, bgColor)\n",
    "    draw = ImageDraw.Draw(image)\n",
    "    _, _, w, h = draw.textbbox((0, 0), message, font=font)\n",
    "    draw.text(((W-w)/2, (H-h)/2), message, font=font, fill=fontColor)\n",
    "    return image\n",
    "\n",
    "my_font = ImageFont.truetype('Roboto-Regular.ttf', 24)\n",
    "my_msg = str(0)\n",
    "my_img = create_image_helper((300, 200), '#F0F8FF', my_msg, my_font, 'black')\n",
    "\n",
    "my_img = np.array(my_img)\n",
    "frame_img = cv2.cvtColor(my_img, cv2.COLOR_RGB2BGR)"
   ]
  },
  {
   "cell_type": "code",
   "execution_count": 40,
   "metadata": {},
   "outputs": [
    {
     "data": {
      "text/plain": [
       "True"
      ]
     },
     "execution_count": 40,
     "metadata": {},
     "output_type": "execute_result"
    }
   ],
   "source": [
    "cv2.imwrite('test.png', frame_img)"
   ]
  }
 ],
 "metadata": {
  "kernelspec": {
   "display_name": "res",
   "language": "python",
   "name": "python3"
  },
  "language_info": {
   "codemirror_mode": {
    "name": "ipython",
    "version": 3
   },
   "file_extension": ".py",
   "mimetype": "text/x-python",
   "name": "python",
   "nbconvert_exporter": "python",
   "pygments_lexer": "ipython3",
   "version": "3.7.13"
  },
  "orig_nbformat": 4,
  "vscode": {
   "interpreter": {
    "hash": "ffc4551cdfa24de1e4d6ff6a879c16b8d7cadd8b756628488549bbbf21e2c19d"
   }
  }
 },
 "nbformat": 4,
 "nbformat_minor": 2
}
